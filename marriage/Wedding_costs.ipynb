{
 "cells": [
  {
   "cell_type": "markdown",
   "metadata": {},
   "source": [
    "## Weddings costs\n",
    "Data from [bridebook.com](bridebook.com). Search for bridebook wedding report and it will bring up reports for a few years going back."
   ]
  },
  {
   "cell_type": "code",
   "execution_count": 5,
   "metadata": {},
   "outputs": [],
   "source": [
    "import pandas as pd\n",
    "import numpy as np\n",
    "\n",
    "import plotly.graph_objects as go\n",
    "from plotly.subplots import make_subplots\n",
    "\n",
    "%load_ext lab_black"
   ]
  },
  {
   "cell_type": "code",
   "execution_count": 29,
   "metadata": {},
   "outputs": [
    {
     "data": {
      "text/html": [
       "<div>\n",
       "<style scoped>\n",
       "    .dataframe tbody tr th:only-of-type {\n",
       "        vertical-align: middle;\n",
       "    }\n",
       "\n",
       "    .dataframe tbody tr th {\n",
       "        vertical-align: top;\n",
       "    }\n",
       "\n",
       "    .dataframe thead th {\n",
       "        text-align: right;\n",
       "    }\n",
       "</style>\n",
       "<table border=\"1\" class=\"dataframe\">\n",
       "  <thead>\n",
       "    <tr style=\"text-align: right;\">\n",
       "      <th></th>\n",
       "      <th>year</th>\n",
       "      <th>Venue_hire</th>\n",
       "      <th>Catering</th>\n",
       "      <th>Wedding_dress</th>\n",
       "      <th>Menswear</th>\n",
       "      <th>Photography</th>\n",
       "      <th>Videography</th>\n",
       "      <th>Honeymoon</th>\n",
       "      <th>Engagement_ring</th>\n",
       "      <th>Music_and_entertainment</th>\n",
       "      <th>Marquee_hire</th>\n",
       "      <th>sum_of_categories</th>\n",
       "      <th>avg_total_cost</th>\n",
       "      <th>median_disposable_HHincome</th>\n",
       "    </tr>\n",
       "  </thead>\n",
       "  <tbody>\n",
       "    <tr>\n",
       "      <th>0</th>\n",
       "      <td>2019</td>\n",
       "      <td>6286</td>\n",
       "      <td>4419</td>\n",
       "      <td>1193</td>\n",
       "      <td>628</td>\n",
       "      <td>1110</td>\n",
       "      <td>1016</td>\n",
       "      <td>3724</td>\n",
       "      <td>1937</td>\n",
       "      <td>1430</td>\n",
       "      <td>4142</td>\n",
       "      <td>32944</td>\n",
       "      <td>20731</td>\n",
       "      <td>29548</td>\n",
       "    </tr>\n",
       "    <tr>\n",
       "      <th>1</th>\n",
       "      <td>2020</td>\n",
       "      <td>3376</td>\n",
       "      <td>1562</td>\n",
       "      <td>1002</td>\n",
       "      <td>479</td>\n",
       "      <td>863</td>\n",
       "      <td>231</td>\n",
       "      <td>1772</td>\n",
       "      <td>1922</td>\n",
       "      <td>365</td>\n",
       "      <td>193</td>\n",
       "      <td>15115</td>\n",
       "      <td>14422</td>\n",
       "      <td>30762</td>\n",
       "    </tr>\n",
       "    <tr>\n",
       "      <th>2</th>\n",
       "      <td>2021</td>\n",
       "      <td>6428</td>\n",
       "      <td>4048</td>\n",
       "      <td>1250</td>\n",
       "      <td>643</td>\n",
       "      <td>1290</td>\n",
       "      <td>1167</td>\n",
       "      <td>3384</td>\n",
       "      <td>2058</td>\n",
       "      <td>1628</td>\n",
       "      <td>2988</td>\n",
       "      <td>32338</td>\n",
       "      <td>20254</td>\n",
       "      <td>31400</td>\n",
       "    </tr>\n",
       "  </tbody>\n",
       "</table>\n",
       "</div>"
      ],
      "text/plain": [
       "   year  Venue_hire  Catering  Wedding_dress  Menswear  Photography  \\\n",
       "0  2019        6286      4419           1193       628         1110   \n",
       "1  2020        3376      1562           1002       479          863   \n",
       "2  2021        6428      4048           1250       643         1290   \n",
       "\n",
       "   Videography  Honeymoon  Engagement_ring  Music_and_entertainment  \\\n",
       "0         1016       3724             1937                     1430   \n",
       "1          231       1772             1922                      365   \n",
       "2         1167       3384             2058                     1628   \n",
       "\n",
       "   Marquee_hire  sum_of_categories  avg_total_cost  median_disposable_HHincome  \n",
       "0          4142              32944           20731                       29548  \n",
       "1           193              15115           14422                       30762  \n",
       "2          2988              32338           20254                       31400  "
      ]
     },
     "execution_count": 29,
     "metadata": {},
     "output_type": "execute_result"
    }
   ],
   "source": [
    "# bridebook.com/ bridebook wedding report\n",
    "d = {\n",
    "    \"year\": [2019, 2020, 2021],\n",
    "    \"Venue_hire\": [6286, 3376, 6428],\n",
    "    \"Catering\": [4419, 1562, 4048],\n",
    "    \"Wedding_dress\": [1193, 1002, 1250],\n",
    "    \"Menswear\": [628, 479, 643],\n",
    "    \"Photography\": [1110, 863, 1290],\n",
    "    \"Videography\": [1016, 231, 1167],\n",
    "    \"Honeymoon\": [3724, 1772, 3384],\n",
    "    \"Engagement_ring\": [1937, 1922, 2058],\n",
    "    \"Music_and_entertainment\": [915 + 515, 293 + 72, 1007 + 621],\n",
    "    \"Marquee_hire\": [4142, 193, 2988],\n",
    "    \"sum_of_categories\": [32944, 15115, 32338],\n",
    "    \"avg_total_cost\": [20731, 14422, 20254],\n",
    "    \"median_disposable_HHincome\": [\n",
    "        29548,\n",
    "        30762,\n",
    "        31400,\n",
    "    ],  # https://www.ons.gov.uk/peoplepopulationandcommunity/personalandhouseholdfinances/incomeandwealth/bulletins/householddisposableincomeandinequality/financialyearending2021\n",
    "}\n",
    "cost_data = pd.DataFrame(data=d)\n",
    "cost_data"
   ]
  },
  {
   "cell_type": "code",
   "execution_count": 60,
   "metadata": {},
   "outputs": [],
   "source": [
    "cost_data[\"other\"] = cost_data.sum_of_categories - (\n",
    "    cost_data.Venue_hire\n",
    "    + cost_data.Catering\n",
    "    + cost_data.Wedding_dress\n",
    "    + cost_data.Menswear\n",
    "    + cost_data.Photography\n",
    "    + cost_data.Videography\n",
    "    + cost_data.Honeymoon\n",
    "    + cost_data.Engagement_ring\n",
    "    + cost_data.Music_and_entertainment\n",
    "    #  + cost_data.Marquee_hire\n",
    ")\n",
    "cost_data[\"vid_and_photo\"] = cost_data.Photography + cost_data.Videography\n",
    "cost_data[\"Wedding_dress_and_suit\"] = cost_data.Wedding_dress + cost_data.Menswear\n",
    "cost_data[\"venue_marquee\"] = cost_data.Venue_hire + cost_data.Marquee_hire"
   ]
  },
  {
   "cell_type": "code",
   "execution_count": 42,
   "metadata": {},
   "outputs": [
    {
     "data": {
      "text/html": [
       "<div>\n",
       "<style scoped>\n",
       "    .dataframe tbody tr th:only-of-type {\n",
       "        vertical-align: middle;\n",
       "    }\n",
       "\n",
       "    .dataframe tbody tr th {\n",
       "        vertical-align: top;\n",
       "    }\n",
       "\n",
       "    .dataframe thead th {\n",
       "        text-align: right;\n",
       "    }\n",
       "</style>\n",
       "<table border=\"1\" class=\"dataframe\">\n",
       "  <thead>\n",
       "    <tr style=\"text-align: right;\">\n",
       "      <th></th>\n",
       "      <th>year</th>\n",
       "      <th>Venue_hire</th>\n",
       "      <th>Catering</th>\n",
       "      <th>Wedding_dress</th>\n",
       "      <th>Menswear</th>\n",
       "      <th>Photography</th>\n",
       "      <th>Videography</th>\n",
       "      <th>Honeymoon</th>\n",
       "      <th>Engagement_ring</th>\n",
       "      <th>Music_and_entertainment</th>\n",
       "      <th>Marquee_hire</th>\n",
       "      <th>sum_of_categories</th>\n",
       "      <th>avg_total_cost</th>\n",
       "      <th>median_disposable_HHincome</th>\n",
       "      <th>other</th>\n",
       "      <th>vid_and_photo</th>\n",
       "      <th>Wedding_dress_and_suit</th>\n",
       "    </tr>\n",
       "  </thead>\n",
       "  <tbody>\n",
       "    <tr>\n",
       "      <th>0</th>\n",
       "      <td>2019</td>\n",
       "      <td>6286</td>\n",
       "      <td>4419</td>\n",
       "      <td>1193</td>\n",
       "      <td>628</td>\n",
       "      <td>1110</td>\n",
       "      <td>1016</td>\n",
       "      <td>3724</td>\n",
       "      <td>1937</td>\n",
       "      <td>1430</td>\n",
       "      <td>4142</td>\n",
       "      <td>32944</td>\n",
       "      <td>20731</td>\n",
       "      <td>29548</td>\n",
       "      <td>11201</td>\n",
       "      <td>2126</td>\n",
       "      <td>1821</td>\n",
       "    </tr>\n",
       "    <tr>\n",
       "      <th>1</th>\n",
       "      <td>2020</td>\n",
       "      <td>3376</td>\n",
       "      <td>1562</td>\n",
       "      <td>1002</td>\n",
       "      <td>479</td>\n",
       "      <td>863</td>\n",
       "      <td>231</td>\n",
       "      <td>1772</td>\n",
       "      <td>1922</td>\n",
       "      <td>365</td>\n",
       "      <td>193</td>\n",
       "      <td>15115</td>\n",
       "      <td>14422</td>\n",
       "      <td>30762</td>\n",
       "      <td>3543</td>\n",
       "      <td>1094</td>\n",
       "      <td>1481</td>\n",
       "    </tr>\n",
       "    <tr>\n",
       "      <th>2</th>\n",
       "      <td>2021</td>\n",
       "      <td>6428</td>\n",
       "      <td>4048</td>\n",
       "      <td>1250</td>\n",
       "      <td>643</td>\n",
       "      <td>1290</td>\n",
       "      <td>1167</td>\n",
       "      <td>3384</td>\n",
       "      <td>2058</td>\n",
       "      <td>1628</td>\n",
       "      <td>2988</td>\n",
       "      <td>32338</td>\n",
       "      <td>20254</td>\n",
       "      <td>31400</td>\n",
       "      <td>10442</td>\n",
       "      <td>2457</td>\n",
       "      <td>1893</td>\n",
       "    </tr>\n",
       "  </tbody>\n",
       "</table>\n",
       "</div>"
      ],
      "text/plain": [
       "   year  Venue_hire  Catering  Wedding_dress  Menswear  Photography  \\\n",
       "0  2019        6286      4419           1193       628         1110   \n",
       "1  2020        3376      1562           1002       479          863   \n",
       "2  2021        6428      4048           1250       643         1290   \n",
       "\n",
       "   Videography  Honeymoon  Engagement_ring  Music_and_entertainment  \\\n",
       "0         1016       3724             1937                     1430   \n",
       "1          231       1772             1922                      365   \n",
       "2         1167       3384             2058                     1628   \n",
       "\n",
       "   Marquee_hire  sum_of_categories  avg_total_cost  \\\n",
       "0          4142              32944           20731   \n",
       "1           193              15115           14422   \n",
       "2          2988              32338           20254   \n",
       "\n",
       "   median_disposable_HHincome  other  vid_and_photo  Wedding_dress_and_suit  \n",
       "0                       29548  11201           2126                    1821  \n",
       "1                       30762   3543           1094                    1481  \n",
       "2                       31400  10442           2457                    1893  "
      ]
     },
     "execution_count": 42,
     "metadata": {},
     "output_type": "execute_result"
    }
   ],
   "source": [
    "cost_data"
   ]
  },
  {
   "cell_type": "code",
   "execution_count": 142,
   "metadata": {},
   "outputs": [
    {
     "data": {
      "application/vnd.plotly.v1+json": {
       "config": {
        "plotlyServerURL": "https://plot.ly"
       },
       "data": [
        {
         "domain": {
          "x": [
           0,
           0.45
          ],
          "y": [
           0,
           1
          ]
         },
         "hole": 0.7,
         "labels": [
          "Venue & marquee hire",
          "Catering",
          "Honeymoon",
          "Photography & Videography",
          "Engagement ring",
          "Wedding dress & Menswear",
          "Music & Entertainment",
          "Other"
         ],
         "marker": {
          "colors": [
           "darkmagenta",
           "gold",
           "lightskyblue",
           "darkred",
           "deeppink",
           "blanchedalmond",
           "darksalmon",
           "lightgrey"
          ]
         },
         "name": "Weddings costs 2020",
         "scalegroup": "one",
         "sort": false,
         "textfont": {
          "size": 16
         },
         "texttemplate": "%{percent:.0%}",
         "type": "pie",
         "values": [
          3569,
          1562,
          1772,
          1094,
          1922,
          1481,
          365,
          3543
         ]
        },
        {
         "domain": {
          "x": [
           0.55,
           1
          ],
          "y": [
           0,
           1
          ]
         },
         "hole": 0.7,
         "labels": [
          "Venue & marquee hire",
          "Catering",
          "Honeymoon",
          "Photography & Videography",
          "Engagement ring",
          "Wedding dress & Menswear",
          "Music & Entertainment",
          "Other"
         ],
         "marker": {
          "colors": [
           "darkmagenta",
           "gold",
           "lightskyblue",
           "darkred",
           "deeppink",
           "blanchedalmond",
           "darksalmon",
           "lightgrey"
          ]
         },
         "name": "Wedding costs 2021",
         "scalegroup": "one",
         "sort": false,
         "textfont": {
          "size": 16
         },
         "texttemplate": "%{percent:.0%}",
         "type": "pie",
         "values": [
          9416,
          4048,
          3384,
          2457,
          2058,
          1893,
          1628,
          10442
         ]
        }
       ],
       "layout": {
        "annotations": [
         {
          "font": {
           "size": 20
          },
          "showarrow": false,
          "text": "2020",
          "x": 0.225,
          "xanchor": "center",
          "xref": "paper",
          "y": 1,
          "yanchor": "bottom",
          "yref": "paper"
         },
         {
          "font": {
           "size": 20
          },
          "showarrow": false,
          "text": "2021",
          "x": 0.775,
          "xanchor": "center",
          "xref": "paper",
          "y": 1,
          "yanchor": "bottom",
          "yref": "paper"
         },
         {
          "font": {
           "size": 20
          },
          "showarrow": false,
          "text": "£14,422",
          "x": 0.17,
          "y": 0.5
         },
         {
          "font": {
           "size": 20
          },
          "showarrow": false,
          "text": "£20,254",
          "x": 0.85,
          "y": 0.5
         },
         {
          "font": {
           "color": "rgb(150,150,150)",
           "family": "Arial",
           "size": 12
          },
          "showarrow": false,
          "text": "Source: bridebook.com & data.meets.poetry",
          "x": -0.05,
          "xanchor": "left",
          "xref": "paper",
          "y": -0.1,
          "yanchor": "bottom",
          "yref": "paper"
         }
        ],
        "autosize": false,
        "font": {
         "color": "rgb(37,37,37)",
         "family": "Arial",
         "size": 26
        },
        "height": 500,
        "legend": {
         "font": {
          "color": "rgb(37,37,37)",
          "family": "Arial",
          "size": 18
         },
         "title": {
          "text": "Cost category"
         }
        },
        "template": {
         "data": {
          "bar": [
           {
            "error_x": {
             "color": "#2a3f5f"
            },
            "error_y": {
             "color": "#2a3f5f"
            },
            "marker": {
             "line": {
              "color": "#E5ECF6",
              "width": 0.5
             },
             "pattern": {
              "fillmode": "overlay",
              "size": 10,
              "solidity": 0.2
             }
            },
            "type": "bar"
           }
          ],
          "barpolar": [
           {
            "marker": {
             "line": {
              "color": "#E5ECF6",
              "width": 0.5
             },
             "pattern": {
              "fillmode": "overlay",
              "size": 10,
              "solidity": 0.2
             }
            },
            "type": "barpolar"
           }
          ],
          "carpet": [
           {
            "aaxis": {
             "endlinecolor": "#2a3f5f",
             "gridcolor": "white",
             "linecolor": "white",
             "minorgridcolor": "white",
             "startlinecolor": "#2a3f5f"
            },
            "baxis": {
             "endlinecolor": "#2a3f5f",
             "gridcolor": "white",
             "linecolor": "white",
             "minorgridcolor": "white",
             "startlinecolor": "#2a3f5f"
            },
            "type": "carpet"
           }
          ],
          "choropleth": [
           {
            "colorbar": {
             "outlinewidth": 0,
             "ticks": ""
            },
            "type": "choropleth"
           }
          ],
          "contour": [
           {
            "colorbar": {
             "outlinewidth": 0,
             "ticks": ""
            },
            "colorscale": [
             [
              0,
              "#0d0887"
             ],
             [
              0.1111111111111111,
              "#46039f"
             ],
             [
              0.2222222222222222,
              "#7201a8"
             ],
             [
              0.3333333333333333,
              "#9c179e"
             ],
             [
              0.4444444444444444,
              "#bd3786"
             ],
             [
              0.5555555555555556,
              "#d8576b"
             ],
             [
              0.6666666666666666,
              "#ed7953"
             ],
             [
              0.7777777777777778,
              "#fb9f3a"
             ],
             [
              0.8888888888888888,
              "#fdca26"
             ],
             [
              1,
              "#f0f921"
             ]
            ],
            "type": "contour"
           }
          ],
          "contourcarpet": [
           {
            "colorbar": {
             "outlinewidth": 0,
             "ticks": ""
            },
            "type": "contourcarpet"
           }
          ],
          "heatmap": [
           {
            "colorbar": {
             "outlinewidth": 0,
             "ticks": ""
            },
            "colorscale": [
             [
              0,
              "#0d0887"
             ],
             [
              0.1111111111111111,
              "#46039f"
             ],
             [
              0.2222222222222222,
              "#7201a8"
             ],
             [
              0.3333333333333333,
              "#9c179e"
             ],
             [
              0.4444444444444444,
              "#bd3786"
             ],
             [
              0.5555555555555556,
              "#d8576b"
             ],
             [
              0.6666666666666666,
              "#ed7953"
             ],
             [
              0.7777777777777778,
              "#fb9f3a"
             ],
             [
              0.8888888888888888,
              "#fdca26"
             ],
             [
              1,
              "#f0f921"
             ]
            ],
            "type": "heatmap"
           }
          ],
          "heatmapgl": [
           {
            "colorbar": {
             "outlinewidth": 0,
             "ticks": ""
            },
            "colorscale": [
             [
              0,
              "#0d0887"
             ],
             [
              0.1111111111111111,
              "#46039f"
             ],
             [
              0.2222222222222222,
              "#7201a8"
             ],
             [
              0.3333333333333333,
              "#9c179e"
             ],
             [
              0.4444444444444444,
              "#bd3786"
             ],
             [
              0.5555555555555556,
              "#d8576b"
             ],
             [
              0.6666666666666666,
              "#ed7953"
             ],
             [
              0.7777777777777778,
              "#fb9f3a"
             ],
             [
              0.8888888888888888,
              "#fdca26"
             ],
             [
              1,
              "#f0f921"
             ]
            ],
            "type": "heatmapgl"
           }
          ],
          "histogram": [
           {
            "marker": {
             "pattern": {
              "fillmode": "overlay",
              "size": 10,
              "solidity": 0.2
             }
            },
            "type": "histogram"
           }
          ],
          "histogram2d": [
           {
            "colorbar": {
             "outlinewidth": 0,
             "ticks": ""
            },
            "colorscale": [
             [
              0,
              "#0d0887"
             ],
             [
              0.1111111111111111,
              "#46039f"
             ],
             [
              0.2222222222222222,
              "#7201a8"
             ],
             [
              0.3333333333333333,
              "#9c179e"
             ],
             [
              0.4444444444444444,
              "#bd3786"
             ],
             [
              0.5555555555555556,
              "#d8576b"
             ],
             [
              0.6666666666666666,
              "#ed7953"
             ],
             [
              0.7777777777777778,
              "#fb9f3a"
             ],
             [
              0.8888888888888888,
              "#fdca26"
             ],
             [
              1,
              "#f0f921"
             ]
            ],
            "type": "histogram2d"
           }
          ],
          "histogram2dcontour": [
           {
            "colorbar": {
             "outlinewidth": 0,
             "ticks": ""
            },
            "colorscale": [
             [
              0,
              "#0d0887"
             ],
             [
              0.1111111111111111,
              "#46039f"
             ],
             [
              0.2222222222222222,
              "#7201a8"
             ],
             [
              0.3333333333333333,
              "#9c179e"
             ],
             [
              0.4444444444444444,
              "#bd3786"
             ],
             [
              0.5555555555555556,
              "#d8576b"
             ],
             [
              0.6666666666666666,
              "#ed7953"
             ],
             [
              0.7777777777777778,
              "#fb9f3a"
             ],
             [
              0.8888888888888888,
              "#fdca26"
             ],
             [
              1,
              "#f0f921"
             ]
            ],
            "type": "histogram2dcontour"
           }
          ],
          "mesh3d": [
           {
            "colorbar": {
             "outlinewidth": 0,
             "ticks": ""
            },
            "type": "mesh3d"
           }
          ],
          "parcoords": [
           {
            "line": {
             "colorbar": {
              "outlinewidth": 0,
              "ticks": ""
             }
            },
            "type": "parcoords"
           }
          ],
          "pie": [
           {
            "automargin": true,
            "type": "pie"
           }
          ],
          "scatter": [
           {
            "marker": {
             "colorbar": {
              "outlinewidth": 0,
              "ticks": ""
             }
            },
            "type": "scatter"
           }
          ],
          "scatter3d": [
           {
            "line": {
             "colorbar": {
              "outlinewidth": 0,
              "ticks": ""
             }
            },
            "marker": {
             "colorbar": {
              "outlinewidth": 0,
              "ticks": ""
             }
            },
            "type": "scatter3d"
           }
          ],
          "scattercarpet": [
           {
            "marker": {
             "colorbar": {
              "outlinewidth": 0,
              "ticks": ""
             }
            },
            "type": "scattercarpet"
           }
          ],
          "scattergeo": [
           {
            "marker": {
             "colorbar": {
              "outlinewidth": 0,
              "ticks": ""
             }
            },
            "type": "scattergeo"
           }
          ],
          "scattergl": [
           {
            "marker": {
             "colorbar": {
              "outlinewidth": 0,
              "ticks": ""
             }
            },
            "type": "scattergl"
           }
          ],
          "scattermapbox": [
           {
            "marker": {
             "colorbar": {
              "outlinewidth": 0,
              "ticks": ""
             }
            },
            "type": "scattermapbox"
           }
          ],
          "scatterpolar": [
           {
            "marker": {
             "colorbar": {
              "outlinewidth": 0,
              "ticks": ""
             }
            },
            "type": "scatterpolar"
           }
          ],
          "scatterpolargl": [
           {
            "marker": {
             "colorbar": {
              "outlinewidth": 0,
              "ticks": ""
             }
            },
            "type": "scatterpolargl"
           }
          ],
          "scatterternary": [
           {
            "marker": {
             "colorbar": {
              "outlinewidth": 0,
              "ticks": ""
             }
            },
            "type": "scatterternary"
           }
          ],
          "surface": [
           {
            "colorbar": {
             "outlinewidth": 0,
             "ticks": ""
            },
            "colorscale": [
             [
              0,
              "#0d0887"
             ],
             [
              0.1111111111111111,
              "#46039f"
             ],
             [
              0.2222222222222222,
              "#7201a8"
             ],
             [
              0.3333333333333333,
              "#9c179e"
             ],
             [
              0.4444444444444444,
              "#bd3786"
             ],
             [
              0.5555555555555556,
              "#d8576b"
             ],
             [
              0.6666666666666666,
              "#ed7953"
             ],
             [
              0.7777777777777778,
              "#fb9f3a"
             ],
             [
              0.8888888888888888,
              "#fdca26"
             ],
             [
              1,
              "#f0f921"
             ]
            ],
            "type": "surface"
           }
          ],
          "table": [
           {
            "cells": {
             "fill": {
              "color": "#EBF0F8"
             },
             "line": {
              "color": "white"
             }
            },
            "header": {
             "fill": {
              "color": "#C8D4E3"
             },
             "line": {
              "color": "white"
             }
            },
            "type": "table"
           }
          ]
         },
         "layout": {
          "annotationdefaults": {
           "arrowcolor": "#2a3f5f",
           "arrowhead": 0,
           "arrowwidth": 1
          },
          "autotypenumbers": "strict",
          "coloraxis": {
           "colorbar": {
            "outlinewidth": 0,
            "ticks": ""
           }
          },
          "colorscale": {
           "diverging": [
            [
             0,
             "#8e0152"
            ],
            [
             0.1,
             "#c51b7d"
            ],
            [
             0.2,
             "#de77ae"
            ],
            [
             0.3,
             "#f1b6da"
            ],
            [
             0.4,
             "#fde0ef"
            ],
            [
             0.5,
             "#f7f7f7"
            ],
            [
             0.6,
             "#e6f5d0"
            ],
            [
             0.7,
             "#b8e186"
            ],
            [
             0.8,
             "#7fbc41"
            ],
            [
             0.9,
             "#4d9221"
            ],
            [
             1,
             "#276419"
            ]
           ],
           "sequential": [
            [
             0,
             "#0d0887"
            ],
            [
             0.1111111111111111,
             "#46039f"
            ],
            [
             0.2222222222222222,
             "#7201a8"
            ],
            [
             0.3333333333333333,
             "#9c179e"
            ],
            [
             0.4444444444444444,
             "#bd3786"
            ],
            [
             0.5555555555555556,
             "#d8576b"
            ],
            [
             0.6666666666666666,
             "#ed7953"
            ],
            [
             0.7777777777777778,
             "#fb9f3a"
            ],
            [
             0.8888888888888888,
             "#fdca26"
            ],
            [
             1,
             "#f0f921"
            ]
           ],
           "sequentialminus": [
            [
             0,
             "#0d0887"
            ],
            [
             0.1111111111111111,
             "#46039f"
            ],
            [
             0.2222222222222222,
             "#7201a8"
            ],
            [
             0.3333333333333333,
             "#9c179e"
            ],
            [
             0.4444444444444444,
             "#bd3786"
            ],
            [
             0.5555555555555556,
             "#d8576b"
            ],
            [
             0.6666666666666666,
             "#ed7953"
            ],
            [
             0.7777777777777778,
             "#fb9f3a"
            ],
            [
             0.8888888888888888,
             "#fdca26"
            ],
            [
             1,
             "#f0f921"
            ]
           ]
          },
          "colorway": [
           "#636efa",
           "#EF553B",
           "#00cc96",
           "#ab63fa",
           "#FFA15A",
           "#19d3f3",
           "#FF6692",
           "#B6E880",
           "#FF97FF",
           "#FECB52"
          ],
          "font": {
           "color": "#2a3f5f"
          },
          "geo": {
           "bgcolor": "white",
           "lakecolor": "white",
           "landcolor": "#E5ECF6",
           "showlakes": true,
           "showland": true,
           "subunitcolor": "white"
          },
          "hoverlabel": {
           "align": "left"
          },
          "hovermode": "closest",
          "mapbox": {
           "style": "light"
          },
          "paper_bgcolor": "white",
          "plot_bgcolor": "#E5ECF6",
          "polar": {
           "angularaxis": {
            "gridcolor": "white",
            "linecolor": "white",
            "ticks": ""
           },
           "bgcolor": "#E5ECF6",
           "radialaxis": {
            "gridcolor": "white",
            "linecolor": "white",
            "ticks": ""
           }
          },
          "scene": {
           "xaxis": {
            "backgroundcolor": "#E5ECF6",
            "gridcolor": "white",
            "gridwidth": 2,
            "linecolor": "white",
            "showbackground": true,
            "ticks": "",
            "zerolinecolor": "white"
           },
           "yaxis": {
            "backgroundcolor": "#E5ECF6",
            "gridcolor": "white",
            "gridwidth": 2,
            "linecolor": "white",
            "showbackground": true,
            "ticks": "",
            "zerolinecolor": "white"
           },
           "zaxis": {
            "backgroundcolor": "#E5ECF6",
            "gridcolor": "white",
            "gridwidth": 2,
            "linecolor": "white",
            "showbackground": true,
            "ticks": "",
            "zerolinecolor": "white"
           }
          },
          "shapedefaults": {
           "line": {
            "color": "#2a3f5f"
           }
          },
          "ternary": {
           "aaxis": {
            "gridcolor": "white",
            "linecolor": "white",
            "ticks": ""
           },
           "baxis": {
            "gridcolor": "white",
            "linecolor": "white",
            "ticks": ""
           },
           "bgcolor": "#E5ECF6",
           "caxis": {
            "gridcolor": "white",
            "linecolor": "white",
            "ticks": ""
           }
          },
          "title": {
           "x": 0.05
          },
          "xaxis": {
           "automargin": true,
           "gridcolor": "white",
           "linecolor": "white",
           "ticks": "",
           "title": {
            "standoff": 15
           },
           "zerolinecolor": "white",
           "zerolinewidth": 2
          },
          "yaxis": {
           "automargin": true,
           "gridcolor": "white",
           "linecolor": "white",
           "ticks": "",
           "title": {
            "standoff": 15
           },
           "zerolinecolor": "white",
           "zerolinewidth": 2
          }
         }
        },
        "title": {
         "text": "Average cost of a wedding in the UK"
        },
        "width": 1000
       }
      }
     },
     "metadata": {},
     "output_type": "display_data"
    }
   ],
   "source": [
    "# https://plotly.com/python/pie-charts/\n",
    "labels = [\n",
    "    \"Venue & marquee hire\",\n",
    "    \"Catering\",\n",
    "    \"Honeymoon\",\n",
    "    \"Photography & Videography\",\n",
    "    \"Engagement ring\",\n",
    "    \"Wedding dress & Menswear\",\n",
    "    \"Music & Entertainment\",\n",
    "    \"Other\",\n",
    "]\n",
    "# https://community.plotly.com/t/plotly-colours-list/11730/3\n",
    "colors = [\n",
    "    \"darkmagenta\",\n",
    "    \"gold\",\n",
    "    \"lightskyblue\",\n",
    "    \"darkred\",\n",
    "    \"deeppink\",\n",
    "    \"blanchedalmond\",\n",
    "    \"darksalmon\",\n",
    "    \"lightgrey\",\n",
    "]\n",
    "\n",
    "columns = [\n",
    "    \"venue_marquee\",\n",
    "    \"Catering\",\n",
    "    \"Honeymoon\",\n",
    "    \"vid_and_photo\",\n",
    "    \"Engagement_ring\",\n",
    "    \"Wedding_dress_and_suit\",\n",
    "    \"Music_and_entertainment\",\n",
    "    \"other\",\n",
    "]\n",
    "fig = make_subplots(\n",
    "    1,\n",
    "    2,\n",
    "    specs=[[{\"type\": \"domain\"}, {\"type\": \"domain\"}]],\n",
    "    subplot_titles=[\"2020\", \"2021\"],\n",
    ")\n",
    "fig.add_trace(\n",
    "    go.Pie(\n",
    "        labels=labels,\n",
    "        values=cost_data.iloc[1][columns].values,\n",
    "        sort=False,\n",
    "        scalegroup=\"one\",\n",
    "        hole=0.7,\n",
    "        name=\"Weddings costs 2020\",\n",
    "    ),\n",
    "    1,\n",
    "    1,\n",
    ")\n",
    "fig.add_trace(\n",
    "    go.Pie(\n",
    "        labels=labels,\n",
    "        values=cost_data.iloc[2][columns].values,\n",
    "        sort=False,\n",
    "        scalegroup=\"one\",\n",
    "        hole=0.7,\n",
    "        name=\"Wedding costs 2021\",\n",
    "    ),\n",
    "    1,\n",
    "    2,\n",
    ")\n",
    "fig.update_annotations(font_size=20)\n",
    "\n",
    "fig.update_layout(\n",
    "    title_text=\"Average cost of a wedding in the UK\",\n",
    "    font=dict(family=\"Arial\", size=26, color=\"rgb(37,37,37)\"),\n",
    "    legend_title=\"Cost category\",\n",
    "    legend_font=dict(family=\"Arial\", size=18, color=\"rgb(37,37,37)\"),\n",
    "    autosize=False,\n",
    "    width=1000,\n",
    "    height=500,\n",
    ")\n",
    "fig.add_annotation(\n",
    "    dict(text=\"£14,422\", x=0.17, y=0.5, font_size=20, showarrow=False),\n",
    ")\n",
    "fig.add_annotation(\n",
    "    dict(text=\"£20,254\", x=0.85, y=0.5, font_size=20, showarrow=False),\n",
    ")\n",
    "fig.add_annotation(\n",
    "    dict(\n",
    "        xref=\"paper\",\n",
    "        yref=\"paper\",\n",
    "        x=-0.05,\n",
    "        y=-0.1,\n",
    "        xanchor=\"left\",\n",
    "        yanchor=\"bottom\",\n",
    "        text=\"Source: bridebook.com & data.meets.poetry\",\n",
    "        font=dict(family=\"Arial\", size=12, color=\"rgb(150,150,150)\"),\n",
    "        showarrow=False,\n",
    "    )\n",
    ")\n",
    "fig.update_traces(\n",
    "    texttemplate=\"%{percent:.0%}\",\n",
    "    textfont_size=16,\n",
    "    marker=dict(colors=colors),  # , line=dict(color=\"#000000\", width=0.1)),\n",
    ")\n",
    "fig.show()"
   ]
  }
 ],
 "metadata": {
  "interpreter": {
   "hash": "192bba09c347ca1d74c3cf5bb1da697a61171c25e1d95a2092edb45e0693d625"
  },
  "kernelspec": {
   "display_name": "Python 3.9.7 ('default')",
   "language": "python",
   "name": "python3"
  },
  "language_info": {
   "codemirror_mode": {
    "name": "ipython",
    "version": 3
   },
   "file_extension": ".py",
   "mimetype": "text/x-python",
   "name": "python",
   "nbconvert_exporter": "python",
   "pygments_lexer": "ipython3",
   "version": "3.9.7"
  },
  "orig_nbformat": 4
 },
 "nbformat": 4,
 "nbformat_minor": 2
}
